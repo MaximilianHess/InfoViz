{
 "cells": [
  {
   "cell_type": "markdown",
   "metadata": {},
   "source": [
    "**EXERCISE 1**\n",
    "\n",
    "The goal of this exercise is to get into some first contact with Python, Pandas data frames, and the many opportunities how to quickly generate static charts from data frames.\n",
    "\n",
    "For the first exercise, load the provided CSV file, do some data cleaning, and check if your cleaning operation was successful using visualization. For inspiration, browse through some Kaggle notebooks. The original data was downloaded from Kaggle. \n",
    "\n",
    "The main purpose of the notebook is to preprocess the CSV file for further visualization. The following steps have to be performed: \n",
    "\n",
    "Read the three CSV using Pandas. See the pandas.read_csv documentation to check how to parse the CSV correctly! Merge the two datasets player_data_per_36_min.csv and players.csv into one table. Add a team_name column to your new data frame based on the team_id column retrieving the name from the teams.csv dataset. You should now have a table that includes player info from players.csv, and players performance statistics from player_data_per_36_min.csv, and the team’s name from teams.csv. (3 points)\n",
    "Take care of missing values. Sci-kit learn provides different data imputation methods. Remove unusable rows or columns, if necessary.  If the player has no current team, replace the empty value with \"Retired\".\n",
    "(Hint: You may need to impute before you completely filter your dataframe. You need to make an educated judgment). (3 points)\n",
    "Create two new tables: one that groups rows based on player_id, another that groups rows based on team_id. (2 points)\n",
    "Visualize the data (twice). Every submitted notebook should contain at least two visualizations using at least two different Python visualization libraries. One visualization for each of the new tables (aggregated players or aggregated teams). A list of the most wide-spread Python visualization libraries can be found in this article. You must concisely describe and explain each visualization and your decisions in a Markdown field. You will not receive the points for this task if you did not add a description/explanation. (max. 5 points per visualization)\n",
    "Save the resulting tables (the cleaned player_data_per_36_min and the two new aggregated tables) as CSV. To be sure that the data is correctly saved, you can load it again. You will have to work with these tables for the second exercise. (2 points)\n",
    "Possible visualizations include, but are not limited to: \n",
    "\n",
    "Scatterplots and scatterplot matrices\n",
    "Parallel coordinates\n",
    "Radar charts\n",
    "Bar charts\n",
    "Box plots and histograms \n",
    "Choropleth maps\n",
    "..."
   ]
  },
  {
   "cell_type": "code",
   "execution_count": 40,
   "metadata": {},
   "outputs": [],
   "source": [
    "import pandas as pd\n",
    "import numpy as np\n",
    "from sklearn.impute import SimpleImputer\n",
    "import matplotlib.pyplot as plt"
   ]
  },
  {
   "cell_type": "markdown",
   "metadata": {},
   "source": [
    "Read data"
   ]
  },
  {
   "cell_type": "code",
   "execution_count": 2,
   "metadata": {},
   "outputs": [],
   "source": [
    "players = pd.read_csv(\"data/players.csv\")\n",
    "teams = pd.read_csv(\"data/teams.csv\")\n",
    "player_data_per_36_min = pd.read_csv(\"data/player_data_per_36_min.csv\")"
   ]
  },
  {
   "cell_type": "markdown",
   "metadata": {},
   "source": [
    "Check for duplicates"
   ]
  },
  {
   "cell_type": "code",
   "execution_count": 3,
   "metadata": {},
   "outputs": [
    {
     "name": "stdout",
     "output_type": "stream",
     "text": [
      "Duplikate in Player0\n"
     ]
    }
   ],
   "source": [
    "print(f\"Duplikate in Player{len(player_data_per_36_min[player_data_per_36_min.duplicated()==True])}\")"
   ]
  },
  {
   "cell_type": "code",
   "execution_count": 4,
   "metadata": {},
   "outputs": [
    {
     "data": {
      "text/plain": [
       "(26674, 27)"
      ]
     },
     "execution_count": 4,
     "metadata": {},
     "output_type": "execute_result"
    }
   ],
   "source": [
    "player_data_per_36_min.shape"
   ]
  },
  {
   "cell_type": "code",
   "execution_count": 5,
   "metadata": {},
   "outputs": [
    {
     "data": {
      "text/html": [
       "<div>\n",
       "<style scoped>\n",
       "    .dataframe tbody tr th:only-of-type {\n",
       "        vertical-align: middle;\n",
       "    }\n",
       "\n",
       "    .dataframe tbody tr th {\n",
       "        vertical-align: top;\n",
       "    }\n",
       "\n",
       "    .dataframe thead th {\n",
       "        text-align: right;\n",
       "    }\n",
       "</style>\n",
       "<table border=\"1\" class=\"dataframe\">\n",
       "  <thead>\n",
       "    <tr style=\"text-align: right;\">\n",
       "      <th></th>\n",
       "      <th>id</th>\n",
       "      <th>name</th>\n",
       "      <th>full_name</th>\n",
       "      <th>position</th>\n",
       "      <th>height</th>\n",
       "      <th>weight</th>\n",
       "      <th>birth_date</th>\n",
       "      <th>birth_place</th>\n",
       "      <th>retired</th>\n",
       "      <th>player_url</th>\n",
       "      <th>current_team_id</th>\n",
       "      <th>teams</th>\n",
       "      <th>text</th>\n",
       "    </tr>\n",
       "  </thead>\n",
       "  <tbody>\n",
       "  </tbody>\n",
       "</table>\n",
       "</div>"
      ],
      "text/plain": [
       "Empty DataFrame\n",
       "Columns: [id, name, full_name, position, height, weight, birth_date, birth_place, retired, player_url, current_team_id, teams, text]\n",
       "Index: []"
      ]
     },
     "execution_count": 5,
     "metadata": {},
     "output_type": "execute_result"
    }
   ],
   "source": [
    "players[players.duplicated()==True]"
   ]
  },
  {
   "cell_type": "code",
   "execution_count": 6,
   "metadata": {},
   "outputs": [
    {
     "data": {
      "text/plain": [
       "(4820, 13)"
      ]
     },
     "execution_count": 6,
     "metadata": {},
     "output_type": "execute_result"
    }
   ],
   "source": [
    "players.shape"
   ]
  },
  {
   "cell_type": "code",
   "execution_count": 7,
   "metadata": {},
   "outputs": [
    {
     "data": {
      "text/html": [
       "<div>\n",
       "<style scoped>\n",
       "    .dataframe tbody tr th:only-of-type {\n",
       "        vertical-align: middle;\n",
       "    }\n",
       "\n",
       "    .dataframe tbody tr th {\n",
       "        vertical-align: top;\n",
       "    }\n",
       "\n",
       "    .dataframe thead th {\n",
       "        text-align: right;\n",
       "    }\n",
       "</style>\n",
       "<table border=\"1\" class=\"dataframe\">\n",
       "  <thead>\n",
       "    <tr style=\"text-align: right;\">\n",
       "      <th></th>\n",
       "      <th>team_id</th>\n",
       "      <th>team_name</th>\n",
       "      <th>short_name</th>\n",
       "      <th>years</th>\n",
       "      <th>total_games</th>\n",
       "      <th>total_wins</th>\n",
       "      <th>total_losses</th>\n",
       "      <th>win_loss_percentage</th>\n",
       "      <th>champions</th>\n",
       "      <th>other_names</th>\n",
       "      <th>link</th>\n",
       "      <th>active</th>\n",
       "    </tr>\n",
       "  </thead>\n",
       "  <tbody>\n",
       "  </tbody>\n",
       "</table>\n",
       "</div>"
      ],
      "text/plain": [
       "Empty DataFrame\n",
       "Columns: [team_id, team_name, short_name, years, total_games, total_wins, total_losses, win_loss_percentage, champions, other_names, link, active]\n",
       "Index: []"
      ]
     },
     "execution_count": 7,
     "metadata": {},
     "output_type": "execute_result"
    }
   ],
   "source": [
    "teams[teams.duplicated()==True]"
   ]
  },
  {
   "cell_type": "code",
   "execution_count": 8,
   "metadata": {},
   "outputs": [
    {
     "data": {
      "text/plain": [
       "(52, 12)"
      ]
     },
     "execution_count": 8,
     "metadata": {},
     "output_type": "execute_result"
    }
   ],
   "source": [
    "teams.shape"
   ]
  },
  {
   "cell_type": "code",
   "execution_count": 9,
   "metadata": {},
   "outputs": [],
   "source": [
    "df1 = players.merge(player_data_per_36_min, how='right', left_on='id', right_on='player_id')"
   ]
  },
  {
   "cell_type": "code",
   "execution_count": 10,
   "metadata": {},
   "outputs": [],
   "source": [
    "df2 = df1.merge(teams[['team_name', 'team_id']], how='left', left_on='current_team_id', right_on='team_id')"
   ]
  },
  {
   "cell_type": "code",
   "execution_count": 11,
   "metadata": {},
   "outputs": [],
   "source": [
    "df2 = df2.replace({np.nan:None})"
   ]
  },
  {
   "cell_type": "code",
   "execution_count": 12,
   "metadata": {},
   "outputs": [],
   "source": [
    "df2.loc[df2[\"retired\"],\"team_name\"] = \"Retired\""
   ]
  },
  {
   "cell_type": "code",
   "execution_count": 22,
   "metadata": {},
   "outputs": [
    {
     "name": "stdout",
     "output_type": "stream",
     "text": [
      "<class 'pandas.core.frame.DataFrame'>\n",
      "RangeIndex: 26674 entries, 0 to 26673\n",
      "Data columns (total 42 columns):\n",
      " #   Column           Non-Null Count  Dtype \n",
      "---  ------           --------------  ----- \n",
      " 0   id_x             26674 non-null  int64 \n",
      " 1   name             26674 non-null  object\n",
      " 2   full_name        26674 non-null  object\n",
      " 3   position         26674 non-null  object\n",
      " 4   height           26674 non-null  object\n",
      " 5   weight           26671 non-null  object\n",
      " 6   birth_date       26673 non-null  object\n",
      " 7   birth_place      26278 non-null  object\n",
      " 8   retired          26674 non-null  bool  \n",
      " 9   player_url       26674 non-null  object\n",
      " 10  current_team_id  2830 non-null   object\n",
      " 11  teams            26674 non-null  object\n",
      " 12  text             26674 non-null  object\n",
      " 13  id_y             26674 non-null  int64 \n",
      " 14  player_id        26674 non-null  int64 \n",
      " 15  season           26674 non-null  object\n",
      " 16  total_games      26645 non-null  object\n",
      " 17  games_started    20208 non-null  object\n",
      " 18  minutes_played   26121 non-null  object\n",
      " 19  fg               26116 non-null  object\n",
      " 20  fga              26116 non-null  object\n",
      " 21  fgp              26508 non-null  object\n",
      " 22  fg3              20897 non-null  object\n",
      " 23  fg3a             20897 non-null  object\n",
      " 24  fg3p             17231 non-null  object\n",
      " 25  fg2              22558 non-null  object\n",
      " 26  fg2a             22558 non-null  object\n",
      " 27  fg2p             22388 non-null  object\n",
      " 28  ft               26116 non-null  object\n",
      " 29  fta              26116 non-null  object\n",
      " 30  ftp              25615 non-null  object\n",
      " 31  orb              22767 non-null  object\n",
      " 32  drb              22767 non-null  object\n",
      " 33  trb              26108 non-null  object\n",
      " 34  ast              26116 non-null  object\n",
      " 35  stl              22767 non-null  object\n",
      " 36  blk              22767 non-null  object\n",
      " 37  tov              21615 non-null  object\n",
      " 38  pf               26116 non-null  object\n",
      " 39  pts              26116 non-null  object\n",
      " 40  team_name        26503 non-null  object\n",
      " 41  team_id          2830 non-null   object\n",
      "dtypes: bool(1), int64(3), object(38)\n",
      "memory usage: 8.4+ MB\n"
     ]
    }
   ],
   "source": [
    "df2.info()"
   ]
  },
  {
   "cell_type": "code",
   "execution_count": 45,
   "metadata": {},
   "outputs": [
    {
     "data": {
      "text/html": [
       "<div>\n",
       "<style scoped>\n",
       "    .dataframe tbody tr th:only-of-type {\n",
       "        vertical-align: middle;\n",
       "    }\n",
       "\n",
       "    .dataframe tbody tr th {\n",
       "        vertical-align: top;\n",
       "    }\n",
       "\n",
       "    .dataframe thead th {\n",
       "        text-align: right;\n",
       "    }\n",
       "</style>\n",
       "<table border=\"1\" class=\"dataframe\">\n",
       "  <thead>\n",
       "    <tr style=\"text-align: right;\">\n",
       "      <th></th>\n",
       "      <th>id_x</th>\n",
       "      <th>name</th>\n",
       "      <th>full_name</th>\n",
       "      <th>position</th>\n",
       "      <th>height</th>\n",
       "      <th>weight</th>\n",
       "      <th>birth_date</th>\n",
       "      <th>birth_place</th>\n",
       "      <th>retired</th>\n",
       "      <th>player_url</th>\n",
       "      <th>...</th>\n",
       "      <th>drb</th>\n",
       "      <th>trb</th>\n",
       "      <th>ast</th>\n",
       "      <th>stl</th>\n",
       "      <th>blk</th>\n",
       "      <th>tov</th>\n",
       "      <th>pf</th>\n",
       "      <th>pts</th>\n",
       "      <th>team_name</th>\n",
       "      <th>team_id</th>\n",
       "    </tr>\n",
       "  </thead>\n",
       "  <tbody>\n",
       "    <tr>\n",
       "      <th>0</th>\n",
       "      <td>134</td>\n",
       "      <td>Curly Armstrong</td>\n",
       "      <td>Paul Carlyle Armstrong</td>\n",
       "      <td>G-F</td>\n",
       "      <td>5-11</td>\n",
       "      <td>170.0</td>\n",
       "      <td>November 1 1918</td>\n",
       "      <td>Fort Wayne, Indiana</td>\n",
       "      <td>True</td>\n",
       "      <td>/players/a/armstcu01.html</td>\n",
       "      <td>...</td>\n",
       "      <td>None</td>\n",
       "      <td>None</td>\n",
       "      <td>None</td>\n",
       "      <td>None</td>\n",
       "      <td>None</td>\n",
       "      <td>None</td>\n",
       "      <td>None</td>\n",
       "      <td>None</td>\n",
       "      <td>Retired</td>\n",
       "      <td>None</td>\n",
       "    </tr>\n",
       "    <tr>\n",
       "      <th>1</th>\n",
       "      <td>206</td>\n",
       "      <td>Cliff Barker</td>\n",
       "      <td>Clifford Eugene Barker</td>\n",
       "      <td>G</td>\n",
       "      <td>6-2</td>\n",
       "      <td>185.0</td>\n",
       "      <td>January 15 1921</td>\n",
       "      <td>Yorktown, Indiana</td>\n",
       "      <td>True</td>\n",
       "      <td>/players/b/barkecl01.html</td>\n",
       "      <td>...</td>\n",
       "      <td>None</td>\n",
       "      <td>None</td>\n",
       "      <td>None</td>\n",
       "      <td>None</td>\n",
       "      <td>None</td>\n",
       "      <td>None</td>\n",
       "      <td>None</td>\n",
       "      <td>None</td>\n",
       "      <td>Retired</td>\n",
       "      <td>None</td>\n",
       "    </tr>\n",
       "    <tr>\n",
       "      <th>2</th>\n",
       "      <td>221</td>\n",
       "      <td>Leo Barnhorst</td>\n",
       "      <td>Leo Alphonse Barnhorst</td>\n",
       "      <td>F-G</td>\n",
       "      <td>6-4</td>\n",
       "      <td>190.0</td>\n",
       "      <td>May 11 1924</td>\n",
       "      <td>Indianapolis, Indiana</td>\n",
       "      <td>True</td>\n",
       "      <td>/players/b/barnhle01.html</td>\n",
       "      <td>...</td>\n",
       "      <td>None</td>\n",
       "      <td>None</td>\n",
       "      <td>None</td>\n",
       "      <td>None</td>\n",
       "      <td>None</td>\n",
       "      <td>None</td>\n",
       "      <td>None</td>\n",
       "      <td>None</td>\n",
       "      <td>Retired</td>\n",
       "      <td>None</td>\n",
       "    </tr>\n",
       "    <tr>\n",
       "      <th>3</th>\n",
       "      <td>235</td>\n",
       "      <td>Ed Bartels</td>\n",
       "      <td>Edward John Bartels</td>\n",
       "      <td>F</td>\n",
       "      <td>6-5</td>\n",
       "      <td>195.0</td>\n",
       "      <td>October 8 1925</td>\n",
       "      <td>New York, New York</td>\n",
       "      <td>True</td>\n",
       "      <td>/players/b/barteed01.html</td>\n",
       "      <td>...</td>\n",
       "      <td>None</td>\n",
       "      <td>None</td>\n",
       "      <td>None</td>\n",
       "      <td>None</td>\n",
       "      <td>None</td>\n",
       "      <td>None</td>\n",
       "      <td>None</td>\n",
       "      <td>None</td>\n",
       "      <td>Retired</td>\n",
       "      <td>None</td>\n",
       "    </tr>\n",
       "    <tr>\n",
       "      <th>4</th>\n",
       "      <td>235</td>\n",
       "      <td>Ed Bartels</td>\n",
       "      <td>Edward John Bartels</td>\n",
       "      <td>F</td>\n",
       "      <td>6-5</td>\n",
       "      <td>195.0</td>\n",
       "      <td>October 8 1925</td>\n",
       "      <td>New York, New York</td>\n",
       "      <td>True</td>\n",
       "      <td>/players/b/barteed01.html</td>\n",
       "      <td>...</td>\n",
       "      <td>None</td>\n",
       "      <td>None</td>\n",
       "      <td>None</td>\n",
       "      <td>None</td>\n",
       "      <td>None</td>\n",
       "      <td>None</td>\n",
       "      <td>None</td>\n",
       "      <td>None</td>\n",
       "      <td>Retired</td>\n",
       "      <td>None</td>\n",
       "    </tr>\n",
       "    <tr>\n",
       "      <th>...</th>\n",
       "      <td>...</td>\n",
       "      <td>...</td>\n",
       "      <td>...</td>\n",
       "      <td>...</td>\n",
       "      <td>...</td>\n",
       "      <td>...</td>\n",
       "      <td>...</td>\n",
       "      <td>...</td>\n",
       "      <td>...</td>\n",
       "      <td>...</td>\n",
       "      <td>...</td>\n",
       "      <td>...</td>\n",
       "      <td>...</td>\n",
       "      <td>...</td>\n",
       "      <td>...</td>\n",
       "      <td>...</td>\n",
       "      <td>...</td>\n",
       "      <td>...</td>\n",
       "      <td>...</td>\n",
       "      <td>...</td>\n",
       "      <td>...</td>\n",
       "    </tr>\n",
       "    <tr>\n",
       "      <th>26669</th>\n",
       "      <td>4814</td>\n",
       "      <td>Marial Shayok</td>\n",
       "      <td>Marial Shayok</td>\n",
       "      <td>G</td>\n",
       "      <td>6-5</td>\n",
       "      <td>196.0</td>\n",
       "      <td>July 26 1995</td>\n",
       "      <td>Ottawa, Canada</td>\n",
       "      <td>False</td>\n",
       "      <td>/players/s/shayoma01.html</td>\n",
       "      <td>...</td>\n",
       "      <td>10.8</td>\n",
       "      <td>10.8</td>\n",
       "      <td>3.6</td>\n",
       "      <td>0.0</td>\n",
       "      <td>0.0</td>\n",
       "      <td>3.6</td>\n",
       "      <td>0.0</td>\n",
       "      <td>10.8</td>\n",
       "      <td>Utah Jazz</td>\n",
       "      <td>29.0</td>\n",
       "    </tr>\n",
       "    <tr>\n",
       "      <th>26670</th>\n",
       "      <td>4817</td>\n",
       "      <td>Jeremiah Martin</td>\n",
       "      <td>Jeremiah Martin</td>\n",
       "      <td>PG</td>\n",
       "      <td>6-3</td>\n",
       "      <td>184.0</td>\n",
       "      <td>January 19 1996</td>\n",
       "      <td>Memphis, Tennessee</td>\n",
       "      <td>False</td>\n",
       "      <td>/players/m/martije02.html</td>\n",
       "      <td>...</td>\n",
       "      <td>3.3</td>\n",
       "      <td>3.3</td>\n",
       "      <td>3.3</td>\n",
       "      <td>3.3</td>\n",
       "      <td>0.0</td>\n",
       "      <td>0.0</td>\n",
       "      <td>0.0</td>\n",
       "      <td>6.5</td>\n",
       "      <td>Brooklyn Nets</td>\n",
       "      <td>3.0</td>\n",
       "    </tr>\n",
       "    <tr>\n",
       "      <th>26671</th>\n",
       "      <td>4818</td>\n",
       "      <td>William Howard</td>\n",
       "      <td>William Howard</td>\n",
       "      <td>F</td>\n",
       "      <td>6-8</td>\n",
       "      <td>205.0</td>\n",
       "      <td>October 25 1993</td>\n",
       "      <td>Montbrison, France</td>\n",
       "      <td>False</td>\n",
       "      <td>/players/h/howarwi01.html</td>\n",
       "      <td>...</td>\n",
       "      <td>5.5</td>\n",
       "      <td>5.5</td>\n",
       "      <td>2.8</td>\n",
       "      <td>0.0</td>\n",
       "      <td>0.0</td>\n",
       "      <td>2.8</td>\n",
       "      <td>2.8</td>\n",
       "      <td>0.0</td>\n",
       "      <td>Houston Rockets</td>\n",
       "      <td>11.0</td>\n",
       "    </tr>\n",
       "    <tr>\n",
       "      <th>26672</th>\n",
       "      <td>4819</td>\n",
       "      <td>Gabe Vincent</td>\n",
       "      <td>Gabriel Nnamdi Vincent</td>\n",
       "      <td>PG</td>\n",
       "      <td>6-3</td>\n",
       "      <td>200.0</td>\n",
       "      <td>June 14 1996</td>\n",
       "      <td>Modesto, California</td>\n",
       "      <td>False</td>\n",
       "      <td>/players/v/vincega01.html</td>\n",
       "      <td>...</td>\n",
       "      <td>2.6</td>\n",
       "      <td>2.6</td>\n",
       "      <td>2.6</td>\n",
       "      <td>0.9</td>\n",
       "      <td>0.0</td>\n",
       "      <td>0.0</td>\n",
       "      <td>1.8</td>\n",
       "      <td>10.5</td>\n",
       "      <td>Miami Heat</td>\n",
       "      <td>16.0</td>\n",
       "    </tr>\n",
       "    <tr>\n",
       "      <th>26673</th>\n",
       "      <td>4820</td>\n",
       "      <td>Marques Bolden</td>\n",
       "      <td>Marques Terrell Bolden</td>\n",
       "      <td>C</td>\n",
       "      <td>6-11</td>\n",
       "      <td>245.0</td>\n",
       "      <td>April 17 1998</td>\n",
       "      <td>Dallas, Texas</td>\n",
       "      <td>False</td>\n",
       "      <td>/players/b/boldema01.html</td>\n",
       "      <td>...</td>\n",
       "      <td>24.0</td>\n",
       "      <td>24.0</td>\n",
       "      <td>0.0</td>\n",
       "      <td>12.0</td>\n",
       "      <td>0.0</td>\n",
       "      <td>0.0</td>\n",
       "      <td>12.0</td>\n",
       "      <td>0.0</td>\n",
       "      <td>Cleveland Cavaliers</td>\n",
       "      <td>6.0</td>\n",
       "    </tr>\n",
       "  </tbody>\n",
       "</table>\n",
       "<p>26674 rows × 42 columns</p>\n",
       "</div>"
      ],
      "text/plain": [
       "       id_x             name                full_name position height weight  \\\n",
       "0       134  Curly Armstrong   Paul Carlyle Armstrong      G-F   5-11  170.0   \n",
       "1       206     Cliff Barker   Clifford Eugene Barker        G    6-2  185.0   \n",
       "2       221    Leo Barnhorst   Leo Alphonse Barnhorst      F-G    6-4  190.0   \n",
       "3       235       Ed Bartels      Edward John Bartels        F    6-5  195.0   \n",
       "4       235       Ed Bartels      Edward John Bartels        F    6-5  195.0   \n",
       "...     ...              ...                      ...      ...    ...    ...   \n",
       "26669  4814    Marial Shayok            Marial Shayok        G    6-5  196.0   \n",
       "26670  4817  Jeremiah Martin          Jeremiah Martin       PG    6-3  184.0   \n",
       "26671  4818   William Howard           William Howard        F    6-8  205.0   \n",
       "26672  4819     Gabe Vincent   Gabriel Nnamdi Vincent       PG    6-3  200.0   \n",
       "26673  4820   Marques Bolden   Marques Terrell Bolden        C   6-11  245.0   \n",
       "\n",
       "            birth_date            birth_place  retired  \\\n",
       "0      November 1 1918    Fort Wayne, Indiana     True   \n",
       "1      January 15 1921      Yorktown, Indiana     True   \n",
       "2          May 11 1924  Indianapolis, Indiana     True   \n",
       "3       October 8 1925     New York, New York     True   \n",
       "4       October 8 1925     New York, New York     True   \n",
       "...                ...                    ...      ...   \n",
       "26669     July 26 1995         Ottawa, Canada    False   \n",
       "26670  January 19 1996     Memphis, Tennessee    False   \n",
       "26671  October 25 1993     Montbrison, France    False   \n",
       "26672     June 14 1996    Modesto, California    False   \n",
       "26673    April 17 1998          Dallas, Texas    False   \n",
       "\n",
       "                      player_url  ...   drb   trb   ast   stl   blk   tov  \\\n",
       "0      /players/a/armstcu01.html  ...  None  None  None  None  None  None   \n",
       "1      /players/b/barkecl01.html  ...  None  None  None  None  None  None   \n",
       "2      /players/b/barnhle01.html  ...  None  None  None  None  None  None   \n",
       "3      /players/b/barteed01.html  ...  None  None  None  None  None  None   \n",
       "4      /players/b/barteed01.html  ...  None  None  None  None  None  None   \n",
       "...                          ...  ...   ...   ...   ...   ...   ...   ...   \n",
       "26669  /players/s/shayoma01.html  ...  10.8  10.8   3.6   0.0   0.0   3.6   \n",
       "26670  /players/m/martije02.html  ...   3.3   3.3   3.3   3.3   0.0   0.0   \n",
       "26671  /players/h/howarwi01.html  ...   5.5   5.5   2.8   0.0   0.0   2.8   \n",
       "26672  /players/v/vincega01.html  ...   2.6   2.6   2.6   0.9   0.0   0.0   \n",
       "26673  /players/b/boldema01.html  ...  24.0  24.0   0.0  12.0   0.0   0.0   \n",
       "\n",
       "         pf   pts            team_name team_id  \n",
       "0      None  None              Retired    None  \n",
       "1      None  None              Retired    None  \n",
       "2      None  None              Retired    None  \n",
       "3      None  None              Retired    None  \n",
       "4      None  None              Retired    None  \n",
       "...     ...   ...                  ...     ...  \n",
       "26669   0.0  10.8            Utah Jazz    29.0  \n",
       "26670   0.0   6.5        Brooklyn Nets     3.0  \n",
       "26671   2.8   0.0      Houston Rockets    11.0  \n",
       "26672   1.8  10.5           Miami Heat    16.0  \n",
       "26673  12.0   0.0  Cleveland Cavaliers     6.0  \n",
       "\n",
       "[26674 rows x 42 columns]"
      ]
     },
     "execution_count": 45,
     "metadata": {},
     "output_type": "execute_result"
    }
   ],
   "source": [
    "df2"
   ]
  },
  {
   "cell_type": "code",
   "execution_count": null,
   "metadata": {},
   "outputs": [],
   "source": [
    "imp = SimpleImputer(missing_values=np.nan, strategy='mean')"
   ]
  },
  {
   "cell_type": "code",
   "execution_count": 94,
   "metadata": {},
   "outputs": [],
   "source": [
    "birth_places = df2[\"birth_place\"].unique()"
   ]
  },
  {
   "cell_type": "code",
   "execution_count": 113,
   "metadata": {},
   "outputs": [],
   "source": [
    "birth_states = df2[\"birth_place\"].dropna().apply(lambda x: x.split(','))"
   ]
  },
  {
   "cell_type": "code",
   "execution_count": 112,
   "metadata": {},
   "outputs": [
    {
     "data": {
      "text/plain": [
       "0          [Fort Wayne,  Indiana]\n",
       "1            [Yorktown,  Indiana]\n",
       "2        [Indianapolis,  Indiana]\n",
       "3           [New York,  New York]\n",
       "4           [New York,  New York]\n",
       "                   ...           \n",
       "26669           [Ottawa,  Canada]\n",
       "26670       [Memphis,  Tennessee]\n",
       "26671       [Montbrison,  France]\n",
       "26672      [Modesto,  California]\n",
       "26673            [Dallas,  Texas]\n",
       "Name: birth_place, Length: 26278, dtype: object"
      ]
     },
     "execution_count": 112,
     "metadata": {},
     "output_type": "execute_result"
    }
   ],
   "source": [
    "birth_states"
   ]
  },
  {
   "cell_type": "code",
   "execution_count": 84,
   "metadata": {},
   "outputs": [],
   "source": [
    "all_states = birth_states.unique()"
   ]
  },
  {
   "cell_type": "code",
   "execution_count": 79,
   "metadata": {},
   "outputs": [],
   "source": [
    "US_states = [\n",
    "    'Alabama', 'Alaska', 'Arizona', 'Arkansas', 'California', 'Colorado',\n",
    "    'Connecticut', 'Delaware', 'Florida', 'Georgia', 'Hawaii', 'Idaho',\n",
    "    'Illinois', 'Indiana', 'Iowa', 'Kansas', 'Kentucky', 'Louisiana',\n",
    "    'Maine', 'Maryland', 'Massachusetts', 'Michigan', 'Minnesota',\n",
    "    'Mississippi', 'Missouri', 'Montana', 'Nebraska', 'Nevada',\n",
    "    'New Hampshire', 'New Jersey', 'New Mexico', 'New York',\n",
    "    'North Carolina', 'North Dakota', 'Ohio', 'Oklahoma', 'Oregon',\n",
    "    'Pennsylvania', 'Rhode Island', 'South Carolina', 'South Dakota',\n",
    "    'Tennessee', 'Texas', 'Utah', 'Vermont', 'Virginia', 'Washington',\n",
    "    'West Virginia', 'Wisconsin', 'Wyoming'\n",
    "]\n"
   ]
  },
  {
   "cell_type": "code",
   "execution_count": 86,
   "metadata": {},
   "outputs": [
    {
     "data": {
      "text/plain": [
       "array([], dtype=object)"
      ]
     },
     "execution_count": 86,
     "metadata": {},
     "output_type": "execute_result"
    }
   ],
   "source": [
    "all_states[pd.Series(all_states).isin(states)]"
   ]
  },
  {
   "cell_type": "code",
   "execution_count": 50,
   "metadata": {},
   "outputs": [
    {
     "data": {
      "text/plain": [
       "1611"
      ]
     },
     "execution_count": 50,
     "metadata": {},
     "output_type": "execute_result"
    }
   ],
   "source": [
    "len(birth_places)"
   ]
  }
 ],
 "metadata": {
  "kernelspec": {
   "display_name": "Python 3",
   "language": "python",
   "name": "python3"
  },
  "language_info": {
   "codemirror_mode": {
    "name": "ipython",
    "version": 3
   },
   "file_extension": ".py",
   "mimetype": "text/x-python",
   "name": "python",
   "nbconvert_exporter": "python",
   "pygments_lexer": "ipython3",
   "version": "3.12.2"
  }
 },
 "nbformat": 4,
 "nbformat_minor": 2
}
